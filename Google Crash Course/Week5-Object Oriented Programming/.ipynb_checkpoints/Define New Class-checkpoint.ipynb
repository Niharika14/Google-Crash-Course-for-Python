{
 "cells": [
  {
   "cell_type": "code",
   "execution_count": 2,
   "id": "8e3e7f11",
   "metadata": {},
   "outputs": [],
   "source": [
    "class Apple:\n",
    "    pass"
   ]
  },
  {
   "cell_type": "code",
   "execution_count": 6,
   "id": "9664a472",
   "metadata": {},
   "outputs": [],
   "source": [
    "class Apple:\n",
    "    color=\"\"\n",
    "    flavour=\"\""
   ]
  },
  {
   "cell_type": "code",
   "execution_count": 12,
   "id": "b00a9e42",
   "metadata": {},
   "outputs": [],
   "source": [
    ">>> jonagold = Apple()\n",
    ">>> jonagold.color = \"red\"\n",
    ">>> jonagold.flavor = \"sweet\""
   ]
  },
  {
   "cell_type": "code",
   "execution_count": 13,
   "id": "e5567748",
   "metadata": {},
   "outputs": [],
   "source": [
    ">>> golden = Apple()\n",
    ">>> golden.color = \"Yellow\"\n",
    ">>> golden.flavor = \"Soft\""
   ]
  },
  {
   "cell_type": "code",
   "execution_count": 10,
   "id": "5ff9a434",
   "metadata": {},
   "outputs": [
    {
     "name": "stdout",
     "output_type": "stream",
     "text": [
      "Color is: Yellow & flavours is: sweet\n"
     ]
    }
   ],
   "source": [
    "goldenApple=Apple()\n",
    "color=goldenApple.color=\"Yellow\"\n",
    "flavour=goldenApple.flavour=\"sweet\"\n",
    "\n",
    "print(\"Color is:\",color, \"& flavours is:\",flavour)"
   ]
  },
  {
   "cell_type": "markdown",
   "id": "08613099",
   "metadata": {},
   "source": [
    ">Want to give this a go? Fill in the blanks in the code to make it print a poem."
   ]
  },
  {
   "cell_type": "code",
   "execution_count": 11,
   "id": "bae5dffc",
   "metadata": {},
   "outputs": [
    {
     "name": "stdout",
     "output_type": "stream",
     "text": [
      "Roses are Red,\n",
      "violets are Blue,\n",
      "Sugar is sweet, \n",
      "So are you\n"
     ]
    }
   ],
   "source": [
    "class Flower:\n",
    "  color = 'unknown'\n",
    "\n",
    "rose = Flower()\n",
    "rose.color = \"Red\"\n",
    "\n",
    "violet = Flower()\n",
    "violet.color='Blue'\n",
    "\n",
    "this_pun_is_for_you='Sugar is sweet, \\nSo are you'\n",
    "\n",
    "print(\"Roses are {},\".format(rose.color))\n",
    "print(\"violets are {},\".format(violet.color))\n",
    "print(this_pun_is_for_you) "
   ]
  }
 ],
 "metadata": {
  "kernelspec": {
   "display_name": "Python 3 (ipykernel)",
   "language": "python",
   "name": "python3"
  },
  "language_info": {
   "codemirror_mode": {
    "name": "ipython",
    "version": 3
   },
   "file_extension": ".py",
   "mimetype": "text/x-python",
   "name": "python",
   "nbconvert_exporter": "python",
   "pygments_lexer": "ipython3",
   "version": "3.8.12"
  }
 },
 "nbformat": 4,
 "nbformat_minor": 5
}
