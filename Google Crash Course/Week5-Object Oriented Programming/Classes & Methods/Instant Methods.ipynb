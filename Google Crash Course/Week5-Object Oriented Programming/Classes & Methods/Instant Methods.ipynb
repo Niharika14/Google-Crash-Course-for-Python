{
 "cells": [
  {
   "cell_type": "code",
   "execution_count": 3,
   "id": "e9290391",
   "metadata": {},
   "outputs": [
    {
     "name": "stdout",
     "output_type": "stream",
     "text": [
      "oink oink\n"
     ]
    }
   ],
   "source": [
    "class Piglet:\n",
    "    def speak(self):\n",
    "        print('oink oink')\n",
    "hamlet=Piglet()\n",
    "hamlet.speak()"
   ]
  },
  {
   "cell_type": "code",
   "execution_count": 6,
   "id": "df197ca2",
   "metadata": {},
   "outputs": [
    {
     "name": "stdout",
     "output_type": "stream",
     "text": [
      "Oink! I'm piglet! Oink\n",
      "Oink! I'm Hamlet! Oink\n",
      "Oink! I'm Petunia! Oink\n"
     ]
    }
   ],
   "source": [
    "class Piglet:\n",
    "    name='piglet'\n",
    "    def speak(self):\n",
    "        print(\"Oink! I'm {}! Oink\".format(self.name))\n",
    "hamlet=Piglet()\n",
    "hamlet.speak()\n",
    "\n",
    "\n",
    "hamlet=Piglet()\n",
    "hamlet.name='Hamlet'\n",
    "hamlet.speak()\n",
    "\n",
    "petunia=Piglet()\n",
    "petunia.name=\"Petunia\"\n",
    "petunia.speak()"
   ]
  },
  {
   "cell_type": "code",
   "execution_count": 15,
   "id": "6321fe50",
   "metadata": {},
   "outputs": [
    {
     "name": "stdout",
     "output_type": "stream",
     "text": [
      "0\n",
      "36\n"
     ]
    }
   ],
   "source": [
    "class Piglet:\n",
    "    years=0\n",
    "    def pig_years(self):\n",
    "        return self.years*18\n",
    "\n",
    "piglet=Piglet()\n",
    "print(piglet.pig_years())\n",
    "\n",
    "piglet.years=2\n",
    "print(piglet.pig_years())"
   ]
  },
  {
   "cell_type": "markdown",
   "id": "d6b758ed",
   "metadata": {},
   "source": [
    "> OK, now it’s your turn! Have a go at writing methods for a class.\n",
    "<br> Create a Dog class with dog_years based on the Piglet class shown before (one human year is about 7 dog years)."
   ]
  },
  {
   "cell_type": "code",
   "execution_count": 16,
   "id": "e19b4b93",
   "metadata": {},
   "outputs": [
    {
     "name": "stdout",
     "output_type": "stream",
     "text": [
      "21\n"
     ]
    }
   ],
   "source": [
    "class Dog:\n",
    "    years = 0\n",
    "    def dog_years(self):\n",
    "        return self.years*7\n",
    "    \n",
    "fido=Dog()\n",
    "fido.years=3\n",
    "print(fido.dog_years())"
   ]
  }
 ],
 "metadata": {
  "kernelspec": {
   "display_name": "Python 3 (ipykernel)",
   "language": "python",
   "name": "python3"
  },
  "language_info": {
   "codemirror_mode": {
    "name": "ipython",
    "version": 3
   },
   "file_extension": ".py",
   "mimetype": "text/x-python",
   "name": "python",
   "nbconvert_exporter": "python",
   "pygments_lexer": "ipython3",
   "version": "3.8.12"
  }
 },
 "nbformat": 4,
 "nbformat_minor": 5
}
