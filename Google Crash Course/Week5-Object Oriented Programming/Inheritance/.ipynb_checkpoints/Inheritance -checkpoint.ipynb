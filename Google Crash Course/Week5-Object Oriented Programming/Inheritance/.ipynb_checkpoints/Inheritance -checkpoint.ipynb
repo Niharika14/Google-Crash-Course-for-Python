{
 "cells": [
  {
   "cell_type": "markdown",
   "id": "3fc9c7ef",
   "metadata": {},
   "source": [
    "#### EXAMPLE 1"
   ]
  },
  {
   "cell_type": "code",
   "execution_count": 2,
   "id": "4af2fcf1",
   "metadata": {},
   "outputs": [],
   "source": [
    "class Fruit:\n",
    "    def __init__(self, color, flavour):\n",
    "        self.color=color\n",
    "        self.flavour=flavour\n",
    "\n",
    "class Apple(Fruit):\n",
    "    pass\n",
    "\n",
    "class Grape(Fruit):\n",
    "    pass"
   ]
  },
  {
   "cell_type": "code",
   "execution_count": 6,
   "id": "857b1b55",
   "metadata": {},
   "outputs": [
    {
     "name": "stdout",
     "output_type": "stream",
     "text": [
      "Red\n",
      "tart\n"
     ]
    }
   ],
   "source": [
    "granny_smith=Apple('Red','Sweet')\n",
    "carnelian=Grape('Green','tart')\n",
    "\n",
    "print(granny_smith.color)\n",
    "print(carnelian.flavour)"
   ]
  },
  {
   "cell_type": "markdown",
   "id": "b571169b",
   "metadata": {},
   "source": [
    "#### EXAMPLE 2"
   ]
  },
  {
   "cell_type": "code",
   "execution_count": 15,
   "id": "d3924cec",
   "metadata": {},
   "outputs": [],
   "source": [
    "class Animal:\n",
    "    sound=''\n",
    "    def __init__(self,name):\n",
    "        self.name=name\n",
    "    def speak(self):\n",
    "        print(\"{name} I'm {sound}! {name}\".format(name=self.name,sound=self.sound))\n",
    "class Piglet(Animal):\n",
    "    sound='Oink!'\n",
    "    \n",
    "class Cow(Animal):\n",
    "    sond=\"Mooooooooo\"\n",
    "\n"
   ]
  },
  {
   "cell_type": "code",
   "execution_count": 17,
   "id": "85d59479",
   "metadata": {},
   "outputs": [
    {
     "name": "stdout",
     "output_type": "stream",
     "text": [
      "Hamlet I'm Oink!! Hamlet\n"
     ]
    }
   ],
   "source": [
    "hamlet=Piglet(\"Hamlet\")\n",
    "hamlet.speak()"
   ]
  },
  {
   "cell_type": "code",
   "execution_count": 18,
   "id": "280fc833",
   "metadata": {},
   "outputs": [
    {
     "name": "stdout",
     "output_type": "stream",
     "text": [
      "Milky White I'm ! Milky White\n"
     ]
    }
   ],
   "source": [
    "milky=Cow(\"Milky White\")\n",
    "milky.speak()"
   ]
  },
  {
   "cell_type": "markdown",
   "id": "4710dc97",
   "metadata": {},
   "source": [
    "#### EXAMPLE 3"
   ]
  },
  {
   "cell_type": "code",
   "execution_count": 20,
   "id": "aea57128",
   "metadata": {},
   "outputs": [],
   "source": [
    "class Clothing:\n",
    "    material = \"\"\n",
    "    def __init__(self,name):\n",
    "        self.name = name\n",
    "    def checkmaterial(self):\n",
    "        print(\"This {} is made of {}\".format(self.name,self.material))\n",
    "\t\t\t\n",
    "class Shirt(Clothing):\n",
    "    material=\"Cotton\""
   ]
  },
  {
   "cell_type": "code",
   "execution_count": 21,
   "id": "8348a6b2",
   "metadata": {},
   "outputs": [
    {
     "name": "stdout",
     "output_type": "stream",
     "text": [
      "This Polo is made of Cotton\n"
     ]
    }
   ],
   "source": [
    "polo = Shirt(\"Polo\")\n",
    "polo.checkmaterial()"
   ]
  }
 ],
 "metadata": {
  "kernelspec": {
   "display_name": "Python 3 (ipykernel)",
   "language": "python",
   "name": "python3"
  },
  "language_info": {
   "codemirror_mode": {
    "name": "ipython",
    "version": 3
   },
   "file_extension": ".py",
   "mimetype": "text/x-python",
   "name": "python",
   "nbconvert_exporter": "python",
   "pygments_lexer": "ipython3",
   "version": "3.8.12"
  }
 },
 "nbformat": 4,
 "nbformat_minor": 5
}
