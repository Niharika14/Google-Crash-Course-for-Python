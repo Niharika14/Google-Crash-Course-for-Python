{
 "cells": [
  {
   "cell_type": "markdown",
   "id": "675394a1",
   "metadata": {},
   "source": [
    "#### EXAMPLE 1"
   ]
  },
  {
   "cell_type": "code",
   "execution_count": 5,
   "id": "33b18137",
   "metadata": {},
   "outputs": [],
   "source": [
    "class Repository:\n",
    "    def __init__(self):\n",
    "        self.packages={}\n",
    "    def add_package(self,package):\n",
    "        self.packages[package.name]=package\n",
    "    def total_size(self):\n",
    "        result=0\n",
    "        for package in self.packages.values():\n",
    "            result+=package.size\n",
    "        return result"
   ]
  },
  {
   "cell_type": "markdown",
   "id": "fd426bca",
   "metadata": {},
   "source": [
    "#### Let’s expand a bit on our Clothing classes from the previous in-video question. Your mission: Finish the \"Stock_by_Material\" method and iterate over the amount of each item of a given material that is in stock. When you’re finished, the script should add up to 10 cotton Polo shirts."
   ]
  },
  {
   "cell_type": "code",
   "execution_count": 2,
   "id": "951b19ec",
   "metadata": {},
   "outputs": [],
   "source": [
    "class Clothing:\n",
    "    stock={ 'name': [],'material' :[], 'amount':[]}\n",
    "    def __init__(self,name):\n",
    "        material = \"\"\n",
    "        self.name = name\n",
    "    def add_item(self, name, material, amount):\n",
    "        Clothing.stock['name'].append(self.name)\n",
    "        Clothing.stock['material'].append(self.material)\n",
    "        Clothing.stock['amount'].append(amount)\n",
    "    def Stock_by_Material(self, material):\n",
    "        count=0\n",
    "        n=0\n",
    "        for item in Clothing.stock['material']:\n",
    "            if item == material:\n",
    "                count += Clothing.stock['amount'][n]\n",
    "                n+=1\n",
    "        return count\n",
    "\n",
    "class shirt(Clothing):\n",
    "    material=\"Cotton\"\n",
    "class pants(Clothing):\n",
    "    material=\"Cotton\""
   ]
  },
  {
   "cell_type": "code",
   "execution_count": 3,
   "id": "2ec82c23",
   "metadata": {},
   "outputs": [
    {
     "name": "stdout",
     "output_type": "stream",
     "text": [
      "10\n"
     ]
    }
   ],
   "source": [
    "\n",
    "polo = shirt(\"Polo\")\n",
    "sweatpants = pants(\"Sweatpants\")\n",
    "polo.add_item(polo.name, polo.material, 4)\n",
    "sweatpants.add_item(sweatpants.name, sweatpants.material, 6)\n",
    "current_stock = polo.Stock_by_Material(\"Cotton\")\n",
    "print(current_stock)"
   ]
  }
 ],
 "metadata": {
  "kernelspec": {
   "display_name": "Python 3 (ipykernel)",
   "language": "python",
   "name": "python3"
  },
  "language_info": {
   "codemirror_mode": {
    "name": "ipython",
    "version": 3
   },
   "file_extension": ".py",
   "mimetype": "text/x-python",
   "name": "python",
   "nbconvert_exporter": "python",
   "pygments_lexer": "ipython3",
   "version": "3.8.12"
  }
 },
 "nbformat": 4,
 "nbformat_minor": 5
}
