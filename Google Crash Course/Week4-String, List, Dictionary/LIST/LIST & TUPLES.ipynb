{
 "cells": [
  {
   "cell_type": "markdown",
   "id": "7feb558d",
   "metadata": {},
   "source": [
    "### PRACTICE QUESTIONS\n",
    "\n",
    "#### PROBLEM 1\n",
    "\n",
    "Using the \"split\" string method from the preceding lesson, complete the get_word function to return the {n}th word from a passed sentence. For example, get_word(\"This is a lesson about lists\", 4) should return \"lesson\", which is the 4th word in this sentence. Hint: remember that list indexes start at 0, not 1. "
   ]
  },
  {
   "cell_type": "code",
   "execution_count": 1,
   "id": "799b0c61",
   "metadata": {},
   "outputs": [],
   "source": [
    "def get_word(sentence, n):\n",
    "# Only proceed if n is positive \n",
    "    if n > 0:\n",
    "        words = sentence.split()\n",
    "    # Only proceed if n is not more than the number of words \n",
    "        if n <= len(words):\n",
    "            return(words[n-1])\n",
    "    return(\"Nothing\")"
   ]
  },
  {
   "cell_type": "code",
   "execution_count": 2,
   "id": "7fefe60a",
   "metadata": {},
   "outputs": [
    {
     "name": "stdout",
     "output_type": "stream",
     "text": [
      "lesson\n",
      "Nothing\n",
      "Now\n",
      "Nothing\n"
     ]
    }
   ],
   "source": [
    "print(get_word(\"This is a lesson about lists\", 4)) # Should print: lesson\n",
    "print(get_word(\"This is a lesson about lists\", -4)) # Nothing\n",
    "print(get_word(\"Now we are cooking!\", 1)) # Should print: Now\n",
    "print(get_word(\"Now we are cooking!\", 5)) # Nothing"
   ]
  },
  {
   "cell_type": "markdown",
   "id": "a426e782",
   "metadata": {},
   "source": [
    "#### PROBLEM 2\n",
    "\n",
    "The skip_elements function returns a list containing every other element from an input list, starting with the first element. Complete this function to do that, using the for loop to iterate through the input list."
   ]
  },
  {
   "cell_type": "code",
   "execution_count": 3,
   "id": "8e7252ba",
   "metadata": {},
   "outputs": [],
   "source": [
    "def skip_elements(elements):\n",
    "# Initialize variables\n",
    "    new_list = []\n",
    "    i = 0\n",
    "\n",
    "    # Iterate through the list\n",
    "    for i in range(len(elements)):\n",
    "        # Does this element belong in the resulting list?\n",
    "        if i%2==0:\n",
    "        # Add this element to the resulting list\n",
    "            new_list.append(elements[i])\n",
    "        # Increment i\n",
    "    i+=2\n",
    "\n",
    "    return new_list"
   ]
  },
  {
   "cell_type": "code",
   "execution_count": 4,
   "id": "0ad4c8f4",
   "metadata": {},
   "outputs": [
    {
     "name": "stdout",
     "output_type": "stream",
     "text": [
      "['a', 'c', 'e', 'g']\n",
      "['Orange', 'Strawberry', 'Peach']\n",
      "[]\n"
     ]
    }
   ],
   "source": [
    "print(skip_elements([\"a\", \"b\", \"c\", \"d\", \"e\", \"f\", \"g\"])) # Should be ['a', 'c', 'e', 'g']\n",
    "print(skip_elements(['Orange', 'Pineapple', 'Strawberry', 'Kiwi', 'Peach'])) # Should be ['Orange', 'Strawberry', 'Peach']\n",
    "print(skip_elements([])) # Should be []"
   ]
  },
  {
   "cell_type": "markdown",
   "id": "1f93a4e6",
   "metadata": {},
   "source": [
    "### PROBLEM 3\n",
    "\n",
    "Let's use tuples to store information about a file: its name, its type and its size in bytes. Fill in the gaps in this code to return the size in kilobytes (a kilobyte is 1024 bytes) up to 2 decimal places. "
   ]
  },
  {
   "cell_type": "code",
   "execution_count": 5,
   "id": "18c0d256",
   "metadata": {},
   "outputs": [],
   "source": [
    "def file_size(file_info):\n",
    "    name, type, size= file_info\n",
    "    return(\"{:.2f}\".format(size / 1024))"
   ]
  },
  {
   "cell_type": "code",
   "execution_count": 6,
   "id": "430a29a4",
   "metadata": {},
   "outputs": [
    {
     "name": "stdout",
     "output_type": "stream",
     "text": [
      "17.46\n",
      "0.48\n",
      "1.21\n"
     ]
    }
   ],
   "source": [
    "print(file_size(('Class Assignment', 'docx', 17875))) # Should print 17.46\n",
    "print(file_size(('Notes', 'txt', 496))) # Should print 0.48\n",
    "print(file_size(('Program', 'py', 1239))) # Should print 1.21"
   ]
  },
  {
   "cell_type": "markdown",
   "id": "aa20772e",
   "metadata": {},
   "source": [
    "#### EXAMPLE1"
   ]
  },
  {
   "cell_type": "code",
   "execution_count": 7,
   "id": "fc0d7950",
   "metadata": {},
   "outputs": [
    {
     "name": "stdout",
     "output_type": "stream",
     "text": [
      "Total Characters: 22, Average Length: 5.5\n"
     ]
    }
   ],
   "source": [
    "animals = ['lion','Zebra','Dolphin','Monkey']\n",
    "chars=0\n",
    "for animal in animals:\n",
    "    chars+=len(animal)\n",
    "print(\"Total Characters: {}, Average Length: {}\".format(chars,chars/len(animals)))"
   ]
  },
  {
   "cell_type": "markdown",
   "id": "bd4b3b1f",
   "metadata": {},
   "source": [
    "#### EXAMPLE2"
   ]
  },
  {
   "cell_type": "code",
   "execution_count": 8,
   "id": "ff84e4f7",
   "metadata": {},
   "outputs": [
    {
     "name": "stdout",
     "output_type": "stream",
     "text": [
      "0 - Ashley\n",
      "1 - Dylan\n",
      "2 - Reese\n"
     ]
    }
   ],
   "source": [
    "winners=['Ashley',\"Dylan\",\"Reese\"]\n",
    "for index, person in enumerate(winners):\n",
    "    print(\"{} - {}\".format(index,person))"
   ]
  },
  {
   "cell_type": "markdown",
   "id": "fd38cf08",
   "metadata": {},
   "source": [
    "#### EXAMPLE3"
   ]
  },
  {
   "cell_type": "code",
   "execution_count": 9,
   "id": "30c583bf",
   "metadata": {},
   "outputs": [],
   "source": [
    "def full_email(people):\n",
    "    result=[]\n",
    "    for email, name in people:\n",
    "        result.append(\"{} <{}>\".format(name,email))\n",
    "    return result"
   ]
  },
  {
   "cell_type": "code",
   "execution_count": 10,
   "id": "6ec3ede7",
   "metadata": {},
   "outputs": [
    {
     "name": "stdout",
     "output_type": "stream",
     "text": [
      "['alex <alex@email.com>', 'shay <shay@example.com>', 'jain <jain@gamil.com>']\n"
     ]
    },
    {
     "data": {
      "text/plain": [
       "list"
      ]
     },
     "execution_count": 10,
     "metadata": {},
     "output_type": "execute_result"
    }
   ],
   "source": [
    "email=(full_email([('alex@email.com','alex'),(\"shay@example.com\",\"shay\"),(\"jain@gamil.com\",\"jain\")]))\n",
    "print(email)\n",
    "type(email)"
   ]
  },
  {
   "cell_type": "markdown",
   "id": "4cdfac45",
   "metadata": {},
   "source": [
    "### PROBLEM 4\n",
    "\n",
    "Try out the enumerate function for yourself in this quick exercise. Complete the skip_elements function to return every other element from the list, this time using the enumerate function to check if an element is on an even position or an odd position."
   ]
  },
  {
   "cell_type": "code",
   "execution_count": 11,
   "id": "74cacf37",
   "metadata": {},
   "outputs": [],
   "source": [
    "def skip_elements(elements):\n",
    "    # code goes here\n",
    "    new_ele=[]\n",
    "    for index, element in enumerate(elements):\n",
    "        if index %2 == 0:\n",
    "            new_ele.append(element)\n",
    "    return new_ele\n"
   ]
  },
  {
   "cell_type": "code",
   "execution_count": 12,
   "id": "f48235cf",
   "metadata": {},
   "outputs": [
    {
     "name": "stdout",
     "output_type": "stream",
     "text": [
      "['a', 'c', 'e', 'g']\n",
      "['Orange', 'Strawberry', 'Peach']\n"
     ]
    }
   ],
   "source": [
    "print(skip_elements([\"a\", \"b\", \"c\", \"d\", \"e\", \"f\", \"g\"])) # Should be ['a', 'c', 'e', 'g']\n",
    "print(skip_elements(['Orange', 'Pineapple', 'Strawberry', 'Kiwi', 'Peach'])) # Should be ['Orange', 'Strawberry', 'Peach']"
   ]
  },
  {
   "cell_type": "markdown",
   "id": "5d4771a6",
   "metadata": {},
   "source": [
    "#### EXAMPLE4"
   ]
  },
  {
   "cell_type": "code",
   "execution_count": 13,
   "id": "7360918e",
   "metadata": {},
   "outputs": [
    {
     "name": "stdout",
     "output_type": "stream",
     "text": [
      "[7, 14, 21, 28, 35, 42, 49, 56, 63, 70]\n",
      "[7, 14, 21, 28, 35, 42, 49, 56, 63, 70]\n"
     ]
    }
   ],
   "source": [
    "multiples=[]\n",
    "for x in range(1,11):\n",
    "    multiples.append(x*7)\n",
    "\n",
    "print(multiples)\n",
    "\n",
    "#LIST COMPREHENSION\n",
    "multiples=[x*7 for x in range(1,11)]\n",
    "print(multiples)"
   ]
  },
  {
   "cell_type": "markdown",
   "id": "e9a1d0b0",
   "metadata": {},
   "source": [
    "#### EXAMPLE5"
   ]
  },
  {
   "cell_type": "code",
   "execution_count": 14,
   "id": "73be64e4",
   "metadata": {},
   "outputs": [
    {
     "name": "stdout",
     "output_type": "stream",
     "text": [
      "[6, 4, 1, 3, 2, 4]\n"
     ]
    }
   ],
   "source": [
    "languages=['Python','Ruby','R','C++','GO','JAVA']\n",
    "lengths=[len(length) for length in languages]\n",
    "print(lengths)"
   ]
  },
  {
   "cell_type": "markdown",
   "id": "4777716b",
   "metadata": {},
   "source": [
    "#### EXAMPLE6"
   ]
  },
  {
   "cell_type": "code",
   "execution_count": 15,
   "id": "94f8504e",
   "metadata": {},
   "outputs": [
    {
     "name": "stdout",
     "output_type": "stream",
     "text": [
      "[0, 3, 6, 9, 12, 15, 18, 21, 24, 27, 30, 33, 36, 39, 42, 45, 48, 51, 54, 57, 60, 63, 66, 69, 72, 75, 78, 81, 84, 87, 90, 93, 96, 99]\n"
     ]
    }
   ],
   "source": [
    "z=[x for x in range(0,101) if x%3 ==0]\n",
    "print(z)"
   ]
  },
  {
   "cell_type": "markdown",
   "id": "a3afabd0",
   "metadata": {},
   "source": [
    "### PROBLEM 5\n",
    "\n",
    "The odd_numbers function returns a list of odd numbers between 1 and n, inclusively. Fill in the blanks in the function, using list comprehension. Hint: remember that list and range counters start at 0 and end at the limit minus 1."
   ]
  },
  {
   "cell_type": "code",
   "execution_count": 16,
   "id": "d25c1d4a",
   "metadata": {},
   "outputs": [],
   "source": [
    "def odd_numbers(n):\n",
    "    return [x for x in range(1,n+1) if x%2 != 0]"
   ]
  },
  {
   "cell_type": "code",
   "execution_count": 17,
   "id": "1aa42b06",
   "metadata": {},
   "outputs": [
    {
     "name": "stdout",
     "output_type": "stream",
     "text": [
      "[1, 3, 5]\n",
      "[1, 3, 5, 7, 9]\n",
      "[1, 3, 5, 7, 9, 11]\n",
      "[1]\n",
      "[]\n"
     ]
    }
   ],
   "source": [
    "print(odd_numbers(5))  # Should print [1, 3, 5]\n",
    "print(odd_numbers(10)) # Should print [1, 3, 5, 7, 9]\n",
    "print(odd_numbers(11)) # Should print [1, 3, 5, 7, 9, 11]\n",
    "print(odd_numbers(1))  # Should print [1]\n",
    "print(odd_numbers(-1)) # Should print []"
   ]
  },
  {
   "cell_type": "markdown",
   "id": "7ca878a7",
   "metadata": {},
   "source": [
    "##### Lists and Tuples Operations Cheat Sheet\n",
    "\n",
    "Lists and tuples are both sequences, so they share a number of sequence operations. But, because lists are mutable, there are also a number of methods specific just to lists. This cheat sheet gives you a run down of the common operations first, and the list-specific operations second.\n",
    "\n",
    "#### Common sequence operations\n",
    ">len(sequence) Returns the length of the sequence\n",
    "\n",
    ">for element in sequence Iterates over each element in the sequence\n",
    "\n",
    ">if element in sequence Checks whether the element is part of the sequence\n",
    "\n",
    ">sequence[i] Accesses the element at index i of the sequence, starting at zero\n",
    "\n",
    ">sequence[i:j] Accesses a slice starting at index i, ending at index j-1. If i is omitted, it's 0 by default. If j is omitted, it's len(sequence) by default.\n",
    "\n",
    ">for index, element in enumerate(sequence) Iterates over both the indexes and the elements in the sequence at the same time\n",
    "\n",
    "Check out the official documentation for sequence operations.\n",
    "\n",
    "#### List-specific operations and methods\n",
    ">list[i] = x Replaces the element at index i with x\n",
    "\n",
    ">list.append(x) Inserts x at the end of the list\n",
    "\n",
    ">list.insert(i, x) Inserts x at index i\n",
    "\n",
    ">list.pop(i) Returns the element a index i, also removing it from the list. If i is omitted, the last element is returned and removed.\n",
    "\n",
    ">list.remove(x) Removes the first occurrence of x in the list\n",
    "\n",
    ">list.sort() Sorts the items in the list\n",
    "\n",
    ">list.reverse() Reverses the order of items of the list\n",
    "\n",
    ">list.clear() Removes all the items of the list\n",
    "\n",
    ">list.copy() Creates a copy of the list\n",
    "\n",
    ">list.extend(other_list) Appends all the elements of other_list at the end of list\n",
    "\n",
    "Most of these methods come from the fact that lists are mutable sequences. For more info, see the official documentation for mutable sequences and the list specific documentation.\n",
    "\n",
    "#### List comprehension\n",
    "> [expression for variable in sequence] Creates a new list based on the given sequence. Each element is the result of the given expression.\n",
    "\n",
    "> [expression for variable in sequence if condition] Creates a new list based on the given sequence. Each element is the result of the given expression; elements only get added if the condition is true.  "
   ]
  }
 ],
 "metadata": {
  "kernelspec": {
   "display_name": "Python 3 (ipykernel)",
   "language": "python",
   "name": "python3"
  },
  "language_info": {
   "codemirror_mode": {
    "name": "ipython",
    "version": 3
   },
   "file_extension": ".py",
   "mimetype": "text/x-python",
   "name": "python",
   "nbconvert_exporter": "python",
   "pygments_lexer": "ipython3",
   "version": "3.8.12"
  }
 },
 "nbformat": 4,
 "nbformat_minor": 5
}
