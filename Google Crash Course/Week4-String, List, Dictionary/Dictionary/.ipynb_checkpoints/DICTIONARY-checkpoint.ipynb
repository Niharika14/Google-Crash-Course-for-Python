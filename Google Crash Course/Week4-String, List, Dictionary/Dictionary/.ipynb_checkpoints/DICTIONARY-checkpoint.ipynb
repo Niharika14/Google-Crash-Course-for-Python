{
 "cells": [
  {
   "cell_type": "markdown",
   "id": "0678f575",
   "metadata": {},
   "source": [
    "#### PROBLEM1\n",
    "> The \"toc\" dictionary represents the table of contents for a book. Fill in the blanks to do the following:\n",
    ">1) Add an entry for Epilogue on page 39.\n",
    ">2) Change the page number for Chapter 3 to 24.\n",
    ">3) Display the new dictionary contents.\n",
    ">4) Display True if there is Chapter 5, False if there isn't."
   ]
  },
  {
   "cell_type": "code",
   "execution_count": 5,
   "id": "71503312",
   "metadata": {},
   "outputs": [
    {
     "name": "stdout",
     "output_type": "stream",
     "text": [
      "{'Introduction': 1, 'Chapter 1': 4, 'Chapter 2': 11, 'Chapter 3': 24, 'Chapter 4': 30, 'Epilogue': 39}\n",
      "False\n"
     ]
    }
   ],
   "source": [
    "toc = {\"Introduction\":1, \"Chapter 1\":4, \"Chapter 2\":11, \"Chapter 3\":25, \"Chapter 4\":30}\n",
    "toc['Epilogue'] =39 # Epilogue starts on page 39\n",
    "toc['Chapter 3'] =24 # Chapter 3 now starts on page 24\n",
    "print(toc) # What are the current contents of the dictionary?\n",
    "print('Chapter 5' in toc) # Is there a Chapter 5?"
   ]
  },
  {
   "cell_type": "markdown",
   "id": "ed462589",
   "metadata": {},
   "source": [
    "#### EXAMPLE1"
   ]
  },
  {
   "cell_type": "code",
   "execution_count": 22,
   "id": "bc11fd59",
   "metadata": {},
   "outputs": [
    {
     "name": "stdout",
     "output_type": "stream",
     "text": [
      "jpg\n",
      "txt\n",
      "csv\n",
      "py\n",
      "There are 10 files with the jpg extension\n",
      "There are 20 files with the txt extension\n",
      "There are 2 files with the csv extension\n",
      "There are 23 files with the py extension\n",
      "dict_keys(['jpg', 'txt', 'csv', 'py'])\n",
      "dict_values([10, 20, 2, 23])\n",
      "10\n",
      "20\n",
      "2\n",
      "23\n",
      "('jpg', 10)\n",
      "('txt', 20)\n",
      "('csv', 2)\n",
      "('py', 23)\n"
     ]
    }
   ],
   "source": [
    "file_count={'jpg':10,'txt':20,'csv':2,'py':23}\n",
    "\n",
    "for extension in file_count:\n",
    "    print(extension)\n",
    "    \n",
    "for ext,amount in file_count.items():\n",
    "    print(\"There are {} files with the {} extension\".format(amount,ext))\n",
    "    \n",
    "print(file_count.keys())\n",
    "print(file_count.values())\n",
    "for value in file_count.values():\n",
    "    print(value)\n",
    "    \n",
    "for amount in file_count.items():\n",
    "    print(amount)"
   ]
  },
  {
   "cell_type": "markdown",
   "id": "81cd9257",
   "metadata": {},
   "source": [
    "#### PROBLEM2 \n",
    ">Complete the code to iterate through the keys and values of the cool_beasts dictionary. Remember that the items method returns a tuple of key, value for each element in the dictionary."
   ]
  },
  {
   "cell_type": "code",
   "execution_count": 21,
   "id": "52bf052b",
   "metadata": {
    "scrolled": true
   },
   "outputs": [
    {
     "name": "stdout",
     "output_type": "stream",
     "text": [
      "octopuses have tentacles\n",
      "dolphins have fins\n",
      "rhinos have horns\n"
     ]
    }
   ],
   "source": [
    "cool_beasts = {\"octopuses\":\"tentacles\", \"dolphins\":\"fins\", \"rhinos\":\"horns\"}\n",
    "for key,value in cool_beasts.items():\n",
    "    print(\"{} have {}\".format(key,value))"
   ]
  },
  {
   "cell_type": "markdown",
   "id": "b00baad4",
   "metadata": {},
   "source": [
    "#### EXAMPLE2"
   ]
  },
  {
   "cell_type": "code",
   "execution_count": 28,
   "id": "cbb4151f",
   "metadata": {},
   "outputs": [
    {
     "name": "stdout",
     "output_type": "stream",
     "text": [
      "{'a': 4}\n",
      "{'t': 2, 'e': 1, 'n': 1}\n",
      "{'a': 3, ' ': 9, 'l': 3, 'o': 3, 'n': 4, 'g': 3, 's': 4, 't': 6, 'r': 3, 'i': 4, 'w': 1, 'h': 2, 'f': 1, 'c': 2, 'e': 3, 'x': 1}\n"
     ]
    }
   ],
   "source": [
    "def count_letter(text):\n",
    "    result={}\n",
    "    for letter in text:\n",
    "        if letter not in result:\n",
    "            result[letter]=0\n",
    "        result[letter]+=1\n",
    "    return result\n",
    "\n",
    "print(count_letter('aaaa'))\n",
    "print(count_letter('tent'))\n",
    "print(count_letter('a long string wiht lots of characters in single text'))"
   ]
  },
  {
   "cell_type": "markdown",
   "id": "b33005e1",
   "metadata": {},
   "source": [
    "#### PROBLEM3\n",
    ">In Python, a dictionary can only hold a single value for a given key. To workaround this, our single value can be a list containing multiple values. Here we have a dictionary called \"wardrobe\" with items of clothing and their colors. Fill in the blanks to print a line for each item of clothing with each color, for example: \"red shirt\", \"blue shirt\", and so on."
   ]
  },
  {
   "cell_type": "code",
   "execution_count": 42,
   "id": "cd1ea1d0",
   "metadata": {},
   "outputs": [
    {
     "name": "stdout",
     "output_type": "stream",
     "text": [
      "red shirt\n",
      "blue shirt\n",
      "white shirt\n",
      "blue jeans\n",
      "black jeans\n"
     ]
    }
   ],
   "source": [
    "wardrobe = {\"shirt\":[\"red\",\"blue\",\"white\"], \"jeans\":[\"blue\",\"black\"]}\n",
    "for cloth,color in wardrobe.items():\n",
    "    for value in color:\n",
    "        print(\"{} {}\".format(value,cloth))"
   ]
  },
  {
   "cell_type": "markdown",
   "id": "db871be0",
   "metadata": {},
   "source": [
    "### Dictionary Methods Cheat Sheet\n",
    "\n",
    "##### Definition\n",
    "\n",
    ">x = {key1:value1, key2:value2} \n",
    "\n",
    "##### Operations\n",
    "\n",
    "> len(dictionary) - Returns the number of items in the dictionary\n",
    "\n",
    "> for key in dictionary - Iterates over each key in the dictionary\n",
    "\n",
    "> for key, value in dictionary.items() - Iterates over each key,value pair in the dictionary\n",
    "\n",
    "> if key in dictionary - Checks whether the key is in the dictionary\n",
    "\n",
    "> dictionary[key] - Accesses the item with key key of the dictionary\n",
    "\n",
    "> dictionary[key] = value - Sets the value associated with key\n",
    "\n",
    "> del dictionary[key] - Removes the item with key key from the dictionary\n",
    "\n",
    "##### Methods\n",
    "\n",
    "> dict.get(key, default) - Returns the element corresponding to key, or default if it's not present\n",
    "\n",
    "> dict.keys() - Returns a sequence containing the keys in the dictionary\n",
    "\n",
    "> dict.values() - Returns a sequence containing the values in the dictionary\n",
    "\n",
    "> dict.update(other_dictionary) - Updates the dictionary with the items coming from the other dictionary. Existing entries will be replaced; new entries will be added.\n",
    "\n",
    "> dict.clear() - Removes all the items of the dictionary"
   ]
  },
  {
   "cell_type": "code",
   "execution_count": null,
   "id": "bad29eff",
   "metadata": {},
   "outputs": [],
   "source": []
  }
 ],
 "metadata": {
  "kernelspec": {
   "display_name": "Python 3 (ipykernel)",
   "language": "python",
   "name": "python3"
  },
  "language_info": {
   "codemirror_mode": {
    "name": "ipython",
    "version": 3
   },
   "file_extension": ".py",
   "mimetype": "text/x-python",
   "name": "python",
   "nbconvert_exporter": "python",
   "pygments_lexer": "ipython3",
   "version": "3.8.12"
  }
 },
 "nbformat": 4,
 "nbformat_minor": 5
}
