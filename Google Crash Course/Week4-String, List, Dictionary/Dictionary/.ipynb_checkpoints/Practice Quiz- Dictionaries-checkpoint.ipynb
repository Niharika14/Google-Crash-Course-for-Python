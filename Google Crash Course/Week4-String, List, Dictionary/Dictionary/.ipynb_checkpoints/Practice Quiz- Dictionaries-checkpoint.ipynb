{
 "cells": [
  {
   "cell_type": "markdown",
   "id": "bd499d5e",
   "metadata": {},
   "source": [
    "#### QUESTION1\n",
    ">The email_list function receives a dictionary, which contains domain names as keys, and a list of users as values. Fill in the blanks to generate a list that contains complete email addresses (e.g. diana.prince@gmail.com)."
   ]
  },
  {
   "cell_type": "code",
   "execution_count": 10,
   "id": "076ad5a3",
   "metadata": {},
   "outputs": [],
   "source": [
    "def email_list(domains):\n",
    "    emails = []\n",
    "    for domain,users in domains.items():\n",
    "        for user in users:\n",
    "            emails.append(\"{}@{}\".format(user,domain))\n",
    "    return(emails)"
   ]
  },
  {
   "cell_type": "code",
   "execution_count": 12,
   "id": "c7e54c10",
   "metadata": {},
   "outputs": [
    {
     "name": "stdout",
     "output_type": "stream",
     "text": [
      "['clark.kent@gmail.com', 'diana.prince@gmail.com', 'peter.parker@gmail.com', 'barbara.gordon@yahoo.com', 'jean.grey@yahoo.com', 'bruce.wayne@hotmail.com']\n"
     ]
    }
   ],
   "source": [
    "print(email_list({\"gmail.com\": [\"clark.kent\", \"diana.prince\", \"peter.parker\"], \"yahoo.com\": [\"barbara.gordon\", \"jean.grey\"], \"hotmail.com\": [\"bruce.wayne\"]}))"
   ]
  },
  {
   "cell_type": "markdown",
   "id": "82de042b",
   "metadata": {},
   "source": [
    "##### QUESTION2\n",
    ">The groups_per_user function receives a dictionary, which contains group names with the list of users. Users can belong to multiple groups. Fill in the blanks to return a dictionary with the users as keys and a list of their groups as values. "
   ]
  },
  {
   "cell_type": "code",
   "execution_count": 30,
   "id": "7d74de85",
   "metadata": {},
   "outputs": [],
   "source": [
    "def groups_per_user(group_dictionary):\n",
    "    user_groups = {}\n",
    "    # Go through group_dictionary\n",
    "    for group,users in group_dictionary.items():\n",
    "        # Now go through the users in the group\n",
    "        for user in users:\n",
    "            # Now add the group to the the list of\n",
    "            if user not in user_groups:\n",
    "                user_groups[user]=[]\n",
    "            user_groups[user].append(group)\n",
    "# groups for this user, creating the entry\n",
    "# in the dictionary if necessary\n",
    "    return(user_groups)"
   ]
  },
  {
   "cell_type": "code",
   "execution_count": 32,
   "id": "436045c5",
   "metadata": {},
   "outputs": [
    {
     "name": "stdout",
     "output_type": "stream",
     "text": [
      "{'admin': ['local', 'public', 'administrator'], 'userA': ['local'], 'userB': ['public']}\n"
     ]
    }
   ],
   "source": [
    "print(groups_per_user({\"local\": [\"admin\", \"userA\"],\n",
    "\t\t\"public\":  [\"admin\", \"userB\"],\n",
    "\t\t\"administrator\": [\"admin\"] }))"
   ]
  },
  {
   "cell_type": "markdown",
   "id": "252afc17",
   "metadata": {},
   "source": [
    "#### QUESTION 3\n",
    ">The dict.update method updates one dictionary with the items coming from the other dictionary, so that existing entries are replaced and new entries are added. What is the content of the dictionary “wardrobe“ at the end of the following code?"
   ]
  },
  {
   "cell_type": "code",
   "execution_count": 35,
   "id": "f5bbd59e",
   "metadata": {},
   "outputs": [],
   "source": [
    "wardrobe = {'shirt': ['red', 'blue', 'white'], 'jeans': ['blue', 'black']}\n",
    "new_items = {'jeans': ['white'], 'scarf': ['yellow'], 'socks': ['black', 'brown']}\n",
    "wardrobe.update(new_items)"
   ]
  },
  {
   "cell_type": "code",
   "execution_count": 37,
   "id": "9f7636d0",
   "metadata": {},
   "outputs": [
    {
     "data": {
      "text/plain": [
       "{'shirt': ['red', 'blue', 'white'],\n",
       " 'jeans': ['white'],\n",
       " 'scarf': ['yellow'],\n",
       " 'socks': ['black', 'brown']}"
      ]
     },
     "execution_count": 37,
     "metadata": {},
     "output_type": "execute_result"
    }
   ],
   "source": [
    "wardrobe"
   ]
  },
  {
   "cell_type": "markdown",
   "id": "a432e82c",
   "metadata": {},
   "source": [
    "#### QUESTION4\n",
    ">The add_prices function returns the total price of all of the groceries in the  dictionary. Fill in the blanks to complete this function."
   ]
  },
  {
   "cell_type": "code",
   "execution_count": 39,
   "id": "2da2a697",
   "metadata": {},
   "outputs": [],
   "source": [
    "def add_prices(basket):\n",
    "\t# Initialize the variable that will be used for the calculation\n",
    "\ttotal = 0\n",
    "\t# Iterate through the dictionary items\n",
    "\tfor price in basket.values():\n",
    "\t\t# Add each price to the total calculation\n",
    "\t\t# Hint: how do you access the values of\n",
    "\t\t# dictionary items?\n",
    "\t\ttotal += price\n",
    "\t# Limit the return value to 2 decimal places\n",
    "\treturn round(total, 2)  \n",
    "\n",
    "groceries = {\"bananas\": 1.56, \"apples\": 2.50, \"oranges\": 0.99, \"bread\": 4.59, \n",
    "\t\"coffee\": 6.99, \"milk\": 3.39, \"eggs\": 2.98, \"cheese\": 5.44}"
   ]
  },
  {
   "cell_type": "code",
   "execution_count": 40,
   "id": "50115f88",
   "metadata": {},
   "outputs": [
    {
     "name": "stdout",
     "output_type": "stream",
     "text": [
      "28.44\n"
     ]
    }
   ],
   "source": [
    "print(add_prices(groceries)) # Should print 28.44"
   ]
  }
 ],
 "metadata": {
  "kernelspec": {
   "display_name": "Python 3 (ipykernel)",
   "language": "python",
   "name": "python3"
  },
  "language_info": {
   "codemirror_mode": {
    "name": "ipython",
    "version": 3
   },
   "file_extension": ".py",
   "mimetype": "text/x-python",
   "name": "python",
   "nbconvert_exporter": "python",
   "pygments_lexer": "ipython3",
   "version": "3.8.12"
  }
 },
 "nbformat": 4,
 "nbformat_minor": 5
}
